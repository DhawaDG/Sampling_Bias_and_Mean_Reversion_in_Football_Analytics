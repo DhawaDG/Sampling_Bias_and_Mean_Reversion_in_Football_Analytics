{
 "cells": [
  {
   "cell_type": "markdown",
   "id": "9726af77-7777-414b-aef2-c7d4b392af71",
   "metadata": {},
   "source": [
    "## Selections Bias(Detecting Fake Patterns )\n"
   ]
  },
  {
   "cell_type": "markdown",
   "id": "9a23a1d2-3b9f-49bc-83b8-d0b8791f42d5",
   "metadata": {},
   "source": [
    "When you select or analyze data in way that makes your conclusion misleading-\n",
    "often without realealizing\n",
    "\n",
    "lets try>> \"Player with more yellow cards(CrdY) score fewer goals\". \n",
    "\n",
    "- Reality check: Stratify by position- defender get more cards but naturally score less."
   ]
  },
  {
   "cell_type": "code",
   "execution_count": 1,
   "id": "890ee85a-3bd7-4c58-9f87-c6c724fe51fb",
   "metadata": {},
   "outputs": [
    {
     "data": {
      "text/html": [
       "<div>\n",
       "<style scoped>\n",
       "    .dataframe tbody tr th:only-of-type {\n",
       "        vertical-align: middle;\n",
       "    }\n",
       "\n",
       "    .dataframe tbody tr th {\n",
       "        vertical-align: top;\n",
       "    }\n",
       "\n",
       "    .dataframe thead th {\n",
       "        text-align: right;\n",
       "    }\n",
       "</style>\n",
       "<table border=\"1\" class=\"dataframe\">\n",
       "  <thead>\n",
       "    <tr style=\"text-align: right;\">\n",
       "      <th></th>\n",
       "      <th>Player</th>\n",
       "      <th>Nation</th>\n",
       "      <th>Pos</th>\n",
       "      <th>Age</th>\n",
       "      <th>MP</th>\n",
       "      <th>Starts</th>\n",
       "      <th>Min</th>\n",
       "      <th>90s</th>\n",
       "      <th>Gls</th>\n",
       "      <th>Ast</th>\n",
       "      <th>...</th>\n",
       "      <th>Ast_90</th>\n",
       "      <th>G+A_90</th>\n",
       "      <th>G-PK_90</th>\n",
       "      <th>G+A-PK_90</th>\n",
       "      <th>xG_90</th>\n",
       "      <th>xAG_90</th>\n",
       "      <th>xG+xAG_90</th>\n",
       "      <th>npxG_90</th>\n",
       "      <th>npxG+xAG_90</th>\n",
       "      <th>Team</th>\n",
       "    </tr>\n",
       "  </thead>\n",
       "  <tbody>\n",
       "    <tr>\n",
       "      <th>0</th>\n",
       "      <td>Rodri</td>\n",
       "      <td>es ESP</td>\n",
       "      <td>MF</td>\n",
       "      <td>27.0</td>\n",
       "      <td>34</td>\n",
       "      <td>34</td>\n",
       "      <td>2931.0</td>\n",
       "      <td>32.6</td>\n",
       "      <td>8.0</td>\n",
       "      <td>9.0</td>\n",
       "      <td>...</td>\n",
       "      <td>0.28</td>\n",
       "      <td>0.52</td>\n",
       "      <td>0.25</td>\n",
       "      <td>0.52</td>\n",
       "      <td>0.12</td>\n",
       "      <td>0.12</td>\n",
       "      <td>0.24</td>\n",
       "      <td>0.12</td>\n",
       "      <td>0.24</td>\n",
       "      <td>Manchester City</td>\n",
       "    </tr>\n",
       "    <tr>\n",
       "      <th>1</th>\n",
       "      <td>Phil Foden</td>\n",
       "      <td>eng ENG</td>\n",
       "      <td>FW,MF</td>\n",
       "      <td>23.0</td>\n",
       "      <td>35</td>\n",
       "      <td>33</td>\n",
       "      <td>2857.0</td>\n",
       "      <td>31.7</td>\n",
       "      <td>19.0</td>\n",
       "      <td>8.0</td>\n",
       "      <td>...</td>\n",
       "      <td>0.25</td>\n",
       "      <td>0.85</td>\n",
       "      <td>0.60</td>\n",
       "      <td>0.85</td>\n",
       "      <td>0.33</td>\n",
       "      <td>0.26</td>\n",
       "      <td>0.59</td>\n",
       "      <td>0.33</td>\n",
       "      <td>0.59</td>\n",
       "      <td>Manchester City</td>\n",
       "    </tr>\n",
       "    <tr>\n",
       "      <th>2</th>\n",
       "      <td>Ederson</td>\n",
       "      <td>br BRA</td>\n",
       "      <td>GK</td>\n",
       "      <td>29.0</td>\n",
       "      <td>33</td>\n",
       "      <td>33</td>\n",
       "      <td>2785.0</td>\n",
       "      <td>30.9</td>\n",
       "      <td>0.0</td>\n",
       "      <td>0.0</td>\n",
       "      <td>...</td>\n",
       "      <td>0.00</td>\n",
       "      <td>0.00</td>\n",
       "      <td>0.00</td>\n",
       "      <td>0.00</td>\n",
       "      <td>0.00</td>\n",
       "      <td>0.00</td>\n",
       "      <td>0.00</td>\n",
       "      <td>0.00</td>\n",
       "      <td>0.00</td>\n",
       "      <td>Manchester City</td>\n",
       "    </tr>\n",
       "    <tr>\n",
       "      <th>3</th>\n",
       "      <td>Julián Álvarez</td>\n",
       "      <td>ar ARG</td>\n",
       "      <td>MF,FW</td>\n",
       "      <td>23.0</td>\n",
       "      <td>36</td>\n",
       "      <td>31</td>\n",
       "      <td>2647.0</td>\n",
       "      <td>29.4</td>\n",
       "      <td>11.0</td>\n",
       "      <td>8.0</td>\n",
       "      <td>...</td>\n",
       "      <td>0.27</td>\n",
       "      <td>0.65</td>\n",
       "      <td>0.31</td>\n",
       "      <td>0.58</td>\n",
       "      <td>0.44</td>\n",
       "      <td>0.22</td>\n",
       "      <td>0.66</td>\n",
       "      <td>0.39</td>\n",
       "      <td>0.61</td>\n",
       "      <td>Manchester City</td>\n",
       "    </tr>\n",
       "    <tr>\n",
       "      <th>4</th>\n",
       "      <td>Kyle Walker</td>\n",
       "      <td>eng ENG</td>\n",
       "      <td>DF</td>\n",
       "      <td>33.0</td>\n",
       "      <td>32</td>\n",
       "      <td>30</td>\n",
       "      <td>2767.0</td>\n",
       "      <td>30.7</td>\n",
       "      <td>0.0</td>\n",
       "      <td>4.0</td>\n",
       "      <td>...</td>\n",
       "      <td>0.13</td>\n",
       "      <td>0.13</td>\n",
       "      <td>0.00</td>\n",
       "      <td>0.13</td>\n",
       "      <td>0.01</td>\n",
       "      <td>0.09</td>\n",
       "      <td>0.10</td>\n",
       "      <td>0.01</td>\n",
       "      <td>0.10</td>\n",
       "      <td>Manchester City</td>\n",
       "    </tr>\n",
       "  </tbody>\n",
       "</table>\n",
       "<p>5 rows × 34 columns</p>\n",
       "</div>"
      ],
      "text/plain": [
       "           Player   Nation    Pos   Age  MP  Starts     Min   90s   Gls  Ast  \\\n",
       "0           Rodri   es ESP     MF  27.0  34      34  2931.0  32.6   8.0  9.0   \n",
       "1      Phil Foden  eng ENG  FW,MF  23.0  35      33  2857.0  31.7  19.0  8.0   \n",
       "2         Ederson   br BRA     GK  29.0  33      33  2785.0  30.9   0.0  0.0   \n",
       "3  Julián Álvarez   ar ARG  MF,FW  23.0  36      31  2647.0  29.4  11.0  8.0   \n",
       "4     Kyle Walker  eng ENG     DF  33.0  32      30  2767.0  30.7   0.0  4.0   \n",
       "\n",
       "   ...  Ast_90  G+A_90  G-PK_90  G+A-PK_90  xG_90  xAG_90  xG+xAG_90  npxG_90  \\\n",
       "0  ...    0.28    0.52     0.25       0.52   0.12    0.12       0.24     0.12   \n",
       "1  ...    0.25    0.85     0.60       0.85   0.33    0.26       0.59     0.33   \n",
       "2  ...    0.00    0.00     0.00       0.00   0.00    0.00       0.00     0.00   \n",
       "3  ...    0.27    0.65     0.31       0.58   0.44    0.22       0.66     0.39   \n",
       "4  ...    0.13    0.13     0.00       0.13   0.01    0.09       0.10     0.01   \n",
       "\n",
       "   npxG+xAG_90             Team  \n",
       "0         0.24  Manchester City  \n",
       "1         0.59  Manchester City  \n",
       "2         0.00  Manchester City  \n",
       "3         0.61  Manchester City  \n",
       "4         0.10  Manchester City  \n",
       "\n",
       "[5 rows x 34 columns]"
      ]
     },
     "execution_count": 1,
     "metadata": {},
     "output_type": "execute_result"
    }
   ],
   "source": [
    "#loading dataset\n",
    "import pandas as pd\n",
    "dataset=pd.read_csv('premier-player-23-24.csv')\n",
    "dataset.head()"
   ]
  },
  {
   "cell_type": "code",
   "execution_count": 3,
   "id": "60940892-fc9c-4508-8463-7e38750c72bc",
   "metadata": {},
   "outputs": [
    {
     "name": "stdout",
     "output_type": "stream",
     "text": [
      "       CrdY   Gls\n",
      "Pos              \n",
      "DF     3.36  0.90\n",
      "DF,FW  0.67  0.00\n",
      "DF,MF  2.82  0.50\n",
      "FW     2.11  4.86\n",
      "FW,DF  1.20  2.00\n",
      "FW,MF  2.42  4.20\n",
      "GK     1.50  0.00\n",
      "MF     3.74  1.42\n",
      "MF,DF  2.72  0.72\n",
      "MF,FW  2.69  2.86\n"
     ]
    }
   ],
   "source": [
    "#drop missing value\n",
    "data =dataset[['CrdY','Gls','Pos']].dropna()\n",
    "\n",
    "#group by position and calculate averages\n",
    "position_avg=data.groupby('Pos')[['CrdY','Gls']].mean().round(2)\n",
    "\n",
    "print(position_avg)"
   ]
  },
  {
   "cell_type": "code",
   "execution_count": 5,
   "id": "292e0c59-b15d-4ee2-b51d-dd96bb0c9566",
   "metadata": {},
   "outputs": [
    {
     "name": "stdout",
     "output_type": "stream",
     "text": [
      "Avg Goals with e-2 Yellow Cards:1.42\n",
      "Avg Goals with >2 Yellow Cards:2.94\n"
     ]
    }
   ],
   "source": [
    "#check overall relationship(not by player position)\n",
    "\n",
    "low_cards=data[data['CrdY'] <=2]['Gls'].mean()\n",
    "high_cards=data[data['CrdY']>2]['Gls'].mean()\n",
    "\n",
    "print(f'Avg Goals with e-2 Yellow Cards:{low_cards:.2f}')\n",
    "print(f'Avg Goals with >2 Yellow Cards:{high_cards:.2f}')\n"
   ]
  },
  {
   "cell_type": "markdown",
   "id": "57b1e87c-e7e9-4dd0-a82c-83f26e3b84a6",
   "metadata": {},
   "source": [
    "## Interpretation:"
   ]
  },
  {
   "cell_type": "markdown",
   "id": "ba20e746-62d1-4278-b5e9-f5c4f4abb1c4",
   "metadata": {},
   "source": [
    "The analysis suggests that players with more than 2 yellow cards score more goals on average, which seems counterintuitive. The key insight is that position matters: defenders, who get more yellow cards, tend to score fewer goals, while attackers score more but accumulate fewer yellow cards. Stratifying by position reveals the true relationship, highlighting the importance of considering such factors to avoid misleading conclusions"
   ]
  },
  {
   "cell_type": "code",
   "execution_count": 7,
   "id": "1f378ea6-90ad-4ad6-9b43-e12903190fda",
   "metadata": {},
   "outputs": [
    {
     "data": {
      "image/png": "[encoded data removed]",
      "text/plain": [
       "<Figure size 600x400 with 1 Axes>"
      ]
     },
     "metadata": {},
     "output_type": "display_data"
    }
   ],
   "source": [
    "import matplotlib.pyplot as plt\n",
    "\n",
    "\n",
    "# Data for bar plot\n",
    "groups = ['≤ 2 Yellow Cards', '> 2 Yellow Cards']\n",
    "averages = [low_cards, high_cards]\n",
    "\n",
    "# Plot\n",
    "plt.figure(figsize=(6, 4))\n",
    "plt.bar(groups, averages, color=['skyblue', 'salmon'])\n",
    "\n",
    "# Add labels\n",
    "plt.title('Average Goals vs Yellow Cards Group')\n",
    "plt.ylabel('Average Goals')\n",
    "plt.xlabel('Yellow Card Group')\n",
    "\n",
    "# Add value labels on top\n",
    "for i, val in enumerate(averages):\n",
    "    plt.text(i, val + 0.1, f'{val:.2f}', ha='center', fontsize=12)\n",
    "\n",
    "plt.tight_layout()\n",
    "plt.savefig('C:/project/draft/Statistics_Project/Sampling_Bias_and_Mean_Reversion_in_Football_Analytics/visuals/Selection_Bias.png')\n",
    "plt.show()\n",
    "\n"
   ]
  },
  {
   "cell_type": "code",
   "execution_count": null,
   "id": "e42f6712-b562-4d10-954b-5c8762e20d6c",
   "metadata": {},
   "outputs": [],
   "source": []
  }
 ],
 "metadata": {
  "kernelspec": {
   "display_name": "Python [conda env:base] *",
   "language": "python",
   "name": "conda-base-py"
  },
  "language_info": {
   "codemirror_mode": {
    "name": "ipython",
    "version": 3
   },
   "file_extension": ".py",
   "mimetype": "text/x-python",
   "name": "python",
   "nbconvert_exporter": "python",
   "pygments_lexer": "ipython3",
   "version": "3.12.7"
  }
 },
 "nbformat": 4,
 "nbformat_minor": 5
}
