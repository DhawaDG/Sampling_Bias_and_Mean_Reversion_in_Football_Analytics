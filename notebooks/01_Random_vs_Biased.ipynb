{
 "cells": [
  {
   "cell_type": "markdown",
   "id": "f129a806-fb69-405f-bbac-6106e495ac15",
   "metadata": {},
   "source": [
    "## Random Vs. Biased\n"
   ]
  },
  {
   "cell_type": "markdown",
   "id": "bd90937a-4c1b-4efc-9af7-e1139e2a18a4",
   "metadata": {},
   "source": [
    "# What is Random Sampling?\n",
    "-- Every population members has an equal chance of selections\n",
    "\n",
    "1. with replacement: sample have repeated elements.\n",
    "2. witout replacement: sample have no repeated elements\n"
   ]
  },
  {
   "cell_type": "markdown",
   "id": "aab2f31e-3d39-4d61-adcb-f83989b5138b",
   "metadata": {},
   "source": [
    "# What is Sample Bias?\n",
    "\n",
    "-- Occures when a sample systematically mis-represent the population. Causes are:\n",
    "\n",
    "1. Non-random selection\n",
    "\n",
    "2. Self-Selection\n",
    "\n",
    "   "
   ]
  },
  {
   "cell_type": "code",
   "execution_count": 3,
   "id": "0eec7b45-4a51-4940-9af3-a7358afa35e5",
   "metadata": {},
   "outputs": [],
   "source": [
    "import pandas as pd\n",
    "import numpy as np\n"
   ]
  },
  {
   "cell_type": "code",
   "execution_count": 5,
   "id": "29cfb6ee-1fbe-458f-b4bd-c80b060c26a6",
   "metadata": {},
   "outputs": [
    {
     "data": {
      "text/html": [
       "<div>\n",
       "<style scoped>\n",
       "    .dataframe tbody tr th:only-of-type {\n",
       "        vertical-align: middle;\n",
       "    }\n",
       "\n",
       "    .dataframe tbody tr th {\n",
       "        vertical-align: top;\n",
       "    }\n",
       "\n",
       "    .dataframe thead th {\n",
       "        text-align: right;\n",
       "    }\n",
       "</style>\n",
       "<table border=\"1\" class=\"dataframe\">\n",
       "  <thead>\n",
       "    <tr style=\"text-align: right;\">\n",
       "      <th></th>\n",
       "      <th>Player</th>\n",
       "      <th>Nation</th>\n",
       "      <th>Pos</th>\n",
       "      <th>Age</th>\n",
       "      <th>MP</th>\n",
       "      <th>Starts</th>\n",
       "      <th>Min</th>\n",
       "      <th>90s</th>\n",
       "      <th>Gls</th>\n",
       "      <th>Ast</th>\n",
       "      <th>...</th>\n",
       "      <th>Ast_90</th>\n",
       "      <th>G+A_90</th>\n",
       "      <th>G-PK_90</th>\n",
       "      <th>G+A-PK_90</th>\n",
       "      <th>xG_90</th>\n",
       "      <th>xAG_90</th>\n",
       "      <th>xG+xAG_90</th>\n",
       "      <th>npxG_90</th>\n",
       "      <th>npxG+xAG_90</th>\n",
       "      <th>Team</th>\n",
       "    </tr>\n",
       "  </thead>\n",
       "  <tbody>\n",
       "    <tr>\n",
       "      <th>0</th>\n",
       "      <td>Rodri</td>\n",
       "      <td>es ESP</td>\n",
       "      <td>MF</td>\n",
       "      <td>27.0</td>\n",
       "      <td>34</td>\n",
       "      <td>34</td>\n",
       "      <td>2931.0</td>\n",
       "      <td>32.6</td>\n",
       "      <td>8.0</td>\n",
       "      <td>9.0</td>\n",
       "      <td>...</td>\n",
       "      <td>0.28</td>\n",
       "      <td>0.52</td>\n",
       "      <td>0.25</td>\n",
       "      <td>0.52</td>\n",
       "      <td>0.12</td>\n",
       "      <td>0.12</td>\n",
       "      <td>0.24</td>\n",
       "      <td>0.12</td>\n",
       "      <td>0.24</td>\n",
       "      <td>Manchester City</td>\n",
       "    </tr>\n",
       "    <tr>\n",
       "      <th>1</th>\n",
       "      <td>Phil Foden</td>\n",
       "      <td>eng ENG</td>\n",
       "      <td>FW,MF</td>\n",
       "      <td>23.0</td>\n",
       "      <td>35</td>\n",
       "      <td>33</td>\n",
       "      <td>2857.0</td>\n",
       "      <td>31.7</td>\n",
       "      <td>19.0</td>\n",
       "      <td>8.0</td>\n",
       "      <td>...</td>\n",
       "      <td>0.25</td>\n",
       "      <td>0.85</td>\n",
       "      <td>0.60</td>\n",
       "      <td>0.85</td>\n",
       "      <td>0.33</td>\n",
       "      <td>0.26</td>\n",
       "      <td>0.59</td>\n",
       "      <td>0.33</td>\n",
       "      <td>0.59</td>\n",
       "      <td>Manchester City</td>\n",
       "    </tr>\n",
       "    <tr>\n",
       "      <th>2</th>\n",
       "      <td>Ederson</td>\n",
       "      <td>br BRA</td>\n",
       "      <td>GK</td>\n",
       "      <td>29.0</td>\n",
       "      <td>33</td>\n",
       "      <td>33</td>\n",
       "      <td>2785.0</td>\n",
       "      <td>30.9</td>\n",
       "      <td>0.0</td>\n",
       "      <td>0.0</td>\n",
       "      <td>...</td>\n",
       "      <td>0.00</td>\n",
       "      <td>0.00</td>\n",
       "      <td>0.00</td>\n",
       "      <td>0.00</td>\n",
       "      <td>0.00</td>\n",
       "      <td>0.00</td>\n",
       "      <td>0.00</td>\n",
       "      <td>0.00</td>\n",
       "      <td>0.00</td>\n",
       "      <td>Manchester City</td>\n",
       "    </tr>\n",
       "    <tr>\n",
       "      <th>3</th>\n",
       "      <td>Julián Álvarez</td>\n",
       "      <td>ar ARG</td>\n",
       "      <td>MF,FW</td>\n",
       "      <td>23.0</td>\n",
       "      <td>36</td>\n",
       "      <td>31</td>\n",
       "      <td>2647.0</td>\n",
       "      <td>29.4</td>\n",
       "      <td>11.0</td>\n",
       "      <td>8.0</td>\n",
       "      <td>...</td>\n",
       "      <td>0.27</td>\n",
       "      <td>0.65</td>\n",
       "      <td>0.31</td>\n",
       "      <td>0.58</td>\n",
       "      <td>0.44</td>\n",
       "      <td>0.22</td>\n",
       "      <td>0.66</td>\n",
       "      <td>0.39</td>\n",
       "      <td>0.61</td>\n",
       "      <td>Manchester City</td>\n",
       "    </tr>\n",
       "    <tr>\n",
       "      <th>4</th>\n",
       "      <td>Kyle Walker</td>\n",
       "      <td>eng ENG</td>\n",
       "      <td>DF</td>\n",
       "      <td>33.0</td>\n",
       "      <td>32</td>\n",
       "      <td>30</td>\n",
       "      <td>2767.0</td>\n",
       "      <td>30.7</td>\n",
       "      <td>0.0</td>\n",
       "      <td>4.0</td>\n",
       "      <td>...</td>\n",
       "      <td>0.13</td>\n",
       "      <td>0.13</td>\n",
       "      <td>0.00</td>\n",
       "      <td>0.13</td>\n",
       "      <td>0.01</td>\n",
       "      <td>0.09</td>\n",
       "      <td>0.10</td>\n",
       "      <td>0.01</td>\n",
       "      <td>0.10</td>\n",
       "      <td>Manchester City</td>\n",
       "    </tr>\n",
       "  </tbody>\n",
       "</table>\n",
       "<p>5 rows × 34 columns</p>\n",
       "</div>"
      ],
      "text/plain": [
       "           Player   Nation    Pos   Age  MP  Starts     Min   90s   Gls  Ast  \\\n",
       "0           Rodri   es ESP     MF  27.0  34      34  2931.0  32.6   8.0  9.0   \n",
       "1      Phil Foden  eng ENG  FW,MF  23.0  35      33  2857.0  31.7  19.0  8.0   \n",
       "2         Ederson   br BRA     GK  29.0  33      33  2785.0  30.9   0.0  0.0   \n",
       "3  Julián Álvarez   ar ARG  MF,FW  23.0  36      31  2647.0  29.4  11.0  8.0   \n",
       "4     Kyle Walker  eng ENG     DF  33.0  32      30  2767.0  30.7   0.0  4.0   \n",
       "\n",
       "   ...  Ast_90  G+A_90  G-PK_90  G+A-PK_90  xG_90  xAG_90  xG+xAG_90  npxG_90  \\\n",
       "0  ...    0.28    0.52     0.25       0.52   0.12    0.12       0.24     0.12   \n",
       "1  ...    0.25    0.85     0.60       0.85   0.33    0.26       0.59     0.33   \n",
       "2  ...    0.00    0.00     0.00       0.00   0.00    0.00       0.00     0.00   \n",
       "3  ...    0.27    0.65     0.31       0.58   0.44    0.22       0.66     0.39   \n",
       "4  ...    0.13    0.13     0.00       0.13   0.01    0.09       0.10     0.01   \n",
       "\n",
       "   npxG+xAG_90             Team  \n",
       "0         0.24  Manchester City  \n",
       "1         0.59  Manchester City  \n",
       "2         0.00  Manchester City  \n",
       "3         0.61  Manchester City  \n",
       "4         0.10  Manchester City  \n",
       "\n",
       "[5 rows x 34 columns]"
      ]
     },
     "execution_count": 5,
     "metadata": {},
     "output_type": "execute_result"
    }
   ],
   "source": [
    "\n",
    "dataset=pd.read_csv('premier-player-23-24.csv') #loading data set\n",
    "dataset.head() #displaying top 5"
   ]
  },
  {
   "cell_type": "code",
   "execution_count": 7,
   "id": "02dfacfa-9bf5-4f4c-9825-1dbfc365bf18",
   "metadata": {},
   "outputs": [
    {
     "name": "stdout",
     "output_type": "stream",
     "text": [
      "Randomly selected player average goal per season: 2.40\n"
     ]
    }
   ],
   "source": [
    "#random_sample\n",
    "random_sample= dataset.sample(n=50,replace=False) #taking sample without replacement\n",
    "sample_mean_goal_scored1=random_sample['Gls'].mean() #evaluating mean\n",
    "print(f\"Randomly selected player average goal per season: {sample_mean_goal_scored1:.2f}\")"
   ]
  },
  {
   "cell_type": "code",
   "execution_count": 9,
   "id": "4e7f799a-73be-4c0f-a15b-e793db8ac3de",
   "metadata": {},
   "outputs": [
    {
     "name": "stdout",
     "output_type": "stream",
     "text": [
      "Biased Selected player average goal per season0.00\n"
     ]
    }
   ],
   "source": [
    "#Biased_sample\n",
    "biased_sample= dataset[dataset['Pos']=='GK'].sample(n=50,replace=True) #taking sample with replacement\n",
    "sample_mean_goal_scored2=biased_sample['Gls'].mean() #evaliating mean\n",
    "print(f\"Biased Selected player average goal per season{sample_mean_goal_scored2:.2f}\")"
   ]
  },
  {
   "cell_type": "markdown",
   "id": "2128d2b8-3c6a-4108-ab07-5a68a2184ea2",
   "metadata": {},
   "source": [
    "# Observations\n",
    "\n",
    "In random sampling we selected, Random 50 different players of different positions. Where as In Biased sample we alter the sampling process by only taking player who plays at are Goalkeeper(GK). So there is very few chances scoring goals by GK. Taking Assumption and Considering Biased sample as our our correct appoarch will lead us to sytematical error."
   ]
  },
  {
   "cell_type": "code",
   "execution_count": 11,
   "id": "02c73bc3-e5b7-4470-aed3-765f6bc56f6c",
   "metadata": {},
   "outputs": [
    {
     "data": {
      "image/png": "[encoded data removed]",
      "text/plain": [
       "<Figure size 1000x600 with 1 Axes>"
      ]
     },
     "metadata": {},
     "output_type": "display_data"
    }
   ],
   "source": [
    "import seaborn as sns\n",
    "import matplotlib.pyplot as plt\n",
    "\n",
    "# Create histograms for biased and random samples\n",
    "plt.figure(figsize=(10, 6))\n",
    "\n",
    "sns.histplot(biased_sample['Gls'],kde=True,color='red',label='Biased Sample (GK)',stat='density',bins=10)\n",
    "sns.histplot(random_sample['Gls'],kde=True, color='blue',label='Random Sample',stat='density',bins=10)\n",
    "\n",
    "# Add vertical lines for mean comparison\n",
    "plt.axvline(sample_mean_goal_scored2,color='red',linestyle='--',label=f'GK Mean: {sample_mean_goal_scored2:.2f}')\n",
    "plt.axvline(sample_mean_goal_scored1,color='blue',linestyle='--',label=f'Random Mean: {sample_mean_goal_scored1:.2f}')\n",
    "\n",
    "# Labels and title\n",
    "plt.title('Goal Scored per Season: Biased vs Random Sample')\n",
    "plt.xlabel('Goals per Season')\n",
    "plt.ylabel('Density')\n",
    "plt.legend()\n",
    "plt.tight_layout()\n",
    "plt.savefig('C:/project/draft/Statistics_Project/Sampling_Bias_and_Mean_Reversion_in_Football_Analytics/visuals/Biased_Vs_Random_sample.png')\n",
    "plt.show()\n"
   ]
  },
  {
   "cell_type": "code",
   "execution_count": null,
   "id": "da773f93-2f33-42d7-8f7b-fc0341484f5d",
   "metadata": {},
   "outputs": [],
   "source": []
  }
 ],
 "metadata": {
  "kernelspec": {
   "display_name": "Python [conda env:base] *",
   "language": "python",
   "name": "conda-base-py"
  },
  "language_info": {
   "codemirror_mode": {
    "name": "ipython",
    "version": 3
   },
   "file_extension": ".py",
   "mimetype": "text/x-python",
   "name": "python",
   "nbconvert_exporter": "python",
   "pygments_lexer": "ipython3",
   "version": "3.12.7"
  }
 },
 "nbformat": 4,
 "nbformat_minor": 5
}
